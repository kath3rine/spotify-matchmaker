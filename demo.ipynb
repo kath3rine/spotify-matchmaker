{
 "cells": [
  {
   "cell_type": "markdown",
   "id": "237fc213",
   "metadata": {},
   "source": [
    "# Spotify Matchmaker"
   ]
  },
  {
   "cell_type": "markdown",
   "id": "e3967bbc",
   "metadata": {},
   "source": [
    "Kinda like a dating app, but using your music. Scrapes data from the user's and potential match's (PM) Spotify accounts (songs, artists, audio features, etc) to create a \"dating app\" profile, compute their compatability score, and select artists/categories they both like. Then, the user can choose whether to \"match\""
   ]
  },
  {
   "cell_type": "code",
   "execution_count": null,
   "id": "7b448ade",
   "metadata": {
    "scrolled": true
   },
   "outputs": [],
   "source": []
  },
  {
   "cell_type": "code",
   "execution_count": 1,
   "id": "663ee3a3",
   "metadata": {},
   "outputs": [],
   "source": [
    "import spotipy\n",
    "from spotipy.oauth2 import SpotifyClientCredentials\n",
    "\n",
    "sp = spotipy.Spotify(client_credentials_manager=SpotifyClientCredentials( client_id='30680164aa8a48eb8d6b1a6e1469f0fa', \n",
    "    client_secret='9a71c4a8a62043329a538ddcedd00e77',))"
   ]
  },
  {
   "cell_type": "markdown",
   "id": "ecb58e00",
   "metadata": {},
   "source": [
    "New list of \"matches\". IMPORTANT: ONLY RUN THIS BLOCK ONCE, or the list of matches will reset."
   ]
  },
  {
   "cell_type": "code",
   "execution_count": 2,
   "id": "466388fd",
   "metadata": {},
   "outputs": [],
   "source": [
    "matches = []"
   ]
  },
  {
   "cell_type": "markdown",
   "id": "084c04fd",
   "metadata": {},
   "source": [
    "RE-START THE PROGRAM HERE FOR EACH PM  \n",
    "Enter their URI's"
   ]
  },
  {
   "cell_type": "code",
   "execution_count": 3,
   "id": "ee729d64",
   "metadata": {},
   "outputs": [],
   "source": [
    "# creates lists of track ID's, titles, and artists for each person\n",
    "# user\n",
    "my_uri = 'spotify:user:kli-17:playlist:2T75XDoKsI4dCgPxMXz7KV' # CHANGE THIS per user\n",
    "my_username = my_uri.split(':')[2]\n",
    "my_playlist_id = my_uri.split(':')[4]\n",
    "my_results = sp.user_playlist(my_username, my_playlist_id, 'tracks')\n",
    "\n",
    "my_data = my_results['tracks'] \n",
    "\n",
    "my_titles = []\n",
    "my_artists = []\n",
    "my_ids = []\n",
    "\n",
    "for track in my_data['items']:\n",
    "    my_ids.append(track['track']['id'])\n",
    "    my_titles.append(track['track']['name'])\n",
    "    track_artist = ''\n",
    "    for artist in track['track']['artists']:\n",
    "        track_artist = artist['name']\n",
    "    my_artists.append(track_artist)"
   ]
  },
  {
   "cell_type": "code",
   "execution_count": 4,
   "id": "78770b95",
   "metadata": {
    "scrolled": true
   },
   "outputs": [],
   "source": [
    "# PM\n",
    "their_name = \"househusband\" # CHANGE THIS per pm\n",
    "their_uri = 'spotify:user:cranefly07:playlist:1sa38ykEGPNjjbX5ht0lZq' # CHANGE THIS per pm\n",
    "their_username = their_uri.split(':')[2]\n",
    "their_playlist_id = their_uri.split(':')[4]\n",
    "their_results = sp.user_playlist(their_username, their_playlist_id, 'tracks')\n",
    "\n",
    "their_data = their_results['tracks']\n",
    "\n",
    "their_titles = []\n",
    "their_artists = []\n",
    "their_ids = []\n",
    "\n",
    "for track in their_data['items']:\n",
    "    their_ids.append(track['track']['id'])\n",
    "    their_titles.append(track['track']['name'])\n",
    "    track_artist = ''\n",
    "    for artist in track['track']['artists']:\n",
    "        track_artist = artist['name']\n",
    "    their_artists.append(track_artist)"
   ]
  },
  {
   "cell_type": "code",
   "execution_count": 5,
   "id": "eef33618",
   "metadata": {},
   "outputs": [],
   "source": [
    "# artists both people like\n",
    "shared_artists = []\n",
    "for i in my_artists:\n",
    "    for j in their_artists:\n",
    "        if i == j and i not in shared_artists:\n",
    "            shared_artists.append(i)"
   ]
  },
  {
   "cell_type": "code",
   "execution_count": 6,
   "id": "7a924609",
   "metadata": {},
   "outputs": [],
   "source": [
    "#PM's favorite artists\n",
    "no_dupes = [*set(their_artists)]\n",
    "counts = [] # num of occurences of each song\n",
    "for i in no_dupes:\n",
    "    curr_count = 0\n",
    "    for j in their_artists:\n",
    "        if i == j:\n",
    "            curr_count = curr_count + 1\n",
    "    counts.append(curr_count)\n",
    "faves = []\n",
    "for i in range(len(counts)):\n",
    "   if counts[i] == max(counts):\n",
    "       faves.append(no_dupes[i])"
   ]
  },
  {
   "cell_type": "code",
   "execution_count": 7,
   "id": "93a35810",
   "metadata": {},
   "outputs": [],
   "source": [
    "# extract audio features from each person's songs \n",
    "# create data frames (debugging purposes only)\n",
    "import numpy as np\n",
    "import pandas as pd"
   ]
  },
  {
   "cell_type": "code",
   "execution_count": 8,
   "id": "add2615f",
   "metadata": {},
   "outputs": [
    {
     "data": {
      "text/html": [
       "<div>\n",
       "<style scoped>\n",
       "    .dataframe tbody tr th:only-of-type {\n",
       "        vertical-align: middle;\n",
       "    }\n",
       "\n",
       "    .dataframe tbody tr th {\n",
       "        vertical-align: top;\n",
       "    }\n",
       "\n",
       "    .dataframe thead th {\n",
       "        text-align: right;\n",
       "    }\n",
       "</style>\n",
       "<table border=\"1\" class=\"dataframe\">\n",
       "  <thead>\n",
       "    <tr style=\"text-align: right;\">\n",
       "      <th></th>\n",
       "      <th>id</th>\n",
       "      <th>title</th>\n",
       "      <th>artist</th>\n",
       "      <th>danceability</th>\n",
       "      <th>energy</th>\n",
       "      <th>acousticness</th>\n",
       "      <th>mode</th>\n",
       "      <th>valence</th>\n",
       "      <th>loudness</th>\n",
       "      <th>tempo</th>\n",
       "    </tr>\n",
       "  </thead>\n",
       "  <tbody>\n",
       "    <tr>\n",
       "      <th>60</th>\n",
       "      <td>4I8vyZU5GAVlRTzQWX6Diy</td>\n",
       "      <td>Big Black Heart</td>\n",
       "      <td>Conor Oberst</td>\n",
       "      <td>0.662</td>\n",
       "      <td>0.421</td>\n",
       "      <td>0.040000</td>\n",
       "      <td>1</td>\n",
       "      <td>0.190</td>\n",
       "      <td>-9.980</td>\n",
       "      <td>102.040</td>\n",
       "    </tr>\n",
       "    <tr>\n",
       "      <th>61</th>\n",
       "      <td>1170VohRSx6GwE6QDCHPPH</td>\n",
       "      <td>Kilby Girl</td>\n",
       "      <td>The Backseat Lovers</td>\n",
       "      <td>0.329</td>\n",
       "      <td>0.444</td>\n",
       "      <td>0.057800</td>\n",
       "      <td>1</td>\n",
       "      <td>0.225</td>\n",
       "      <td>-9.973</td>\n",
       "      <td>162.279</td>\n",
       "    </tr>\n",
       "    <tr>\n",
       "      <th>62</th>\n",
       "      <td>77G0k1La0c5Dw8bAFANcyp</td>\n",
       "      <td>Sports</td>\n",
       "      <td>Beach Bunny</td>\n",
       "      <td>0.231</td>\n",
       "      <td>0.877</td>\n",
       "      <td>0.000653</td>\n",
       "      <td>1</td>\n",
       "      <td>0.524</td>\n",
       "      <td>-5.278</td>\n",
       "      <td>186.142</td>\n",
       "    </tr>\n",
       "    <tr>\n",
       "      <th>63</th>\n",
       "      <td>172rW45GEnGoJUuWfm1drt</td>\n",
       "      <td>Your Best American Girl</td>\n",
       "      <td>Mitski</td>\n",
       "      <td>0.360</td>\n",
       "      <td>0.257</td>\n",
       "      <td>0.015900</td>\n",
       "      <td>1</td>\n",
       "      <td>0.130</td>\n",
       "      <td>-9.655</td>\n",
       "      <td>76.972</td>\n",
       "    </tr>\n",
       "    <tr>\n",
       "      <th>64</th>\n",
       "      <td>4JeOesjcWWlprTAvucDSJX</td>\n",
       "      <td>People Watching</td>\n",
       "      <td>Conan Gray</td>\n",
       "      <td>0.530</td>\n",
       "      <td>0.593</td>\n",
       "      <td>0.385000</td>\n",
       "      <td>1</td>\n",
       "      <td>0.538</td>\n",
       "      <td>-7.286</td>\n",
       "      <td>125.723</td>\n",
       "    </tr>\n",
       "  </tbody>\n",
       "</table>\n",
       "</div>"
      ],
      "text/plain": [
       "                        id                    title               artist  \\\n",
       "60  4I8vyZU5GAVlRTzQWX6Diy          Big Black Heart         Conor Oberst   \n",
       "61  1170VohRSx6GwE6QDCHPPH               Kilby Girl  The Backseat Lovers   \n",
       "62  77G0k1La0c5Dw8bAFANcyp                   Sports          Beach Bunny   \n",
       "63  172rW45GEnGoJUuWfm1drt  Your Best American Girl               Mitski   \n",
       "64  4JeOesjcWWlprTAvucDSJX          People Watching           Conan Gray   \n",
       "\n",
       "    danceability  energy  acousticness  mode  valence  loudness    tempo  \n",
       "60         0.662   0.421      0.040000     1    0.190    -9.980  102.040  \n",
       "61         0.329   0.444      0.057800     1    0.225    -9.973  162.279  \n",
       "62         0.231   0.877      0.000653     1    0.524    -5.278  186.142  \n",
       "63         0.360   0.257      0.015900     1    0.130    -9.655   76.972  \n",
       "64         0.530   0.593      0.385000     1    0.538    -7.286  125.723  "
      ]
     },
     "execution_count": 8,
     "metadata": {},
     "output_type": "execute_result"
    }
   ],
   "source": [
    "# user\n",
    "my_features = sp.audio_features(my_ids)\n",
    "my_features_df = pd.DataFrame(data=my_features, columns=my_features[0].keys())\n",
    "my_features_df['title'] = my_titles\n",
    "my_features_df['artist'] = my_artists\n",
    "my_features_df = my_features_df[['id', 'title', 'artist', \n",
    "                           'danceability', 'energy',\n",
    "                           'acousticness', 'mode', 'valence', \n",
    "                            'loudness',  'tempo'\n",
    "                           ]]\n",
    "my_features_df.tail()"
   ]
  },
  {
   "cell_type": "code",
   "execution_count": 9,
   "id": "3ac781a8",
   "metadata": {
    "scrolled": true
   },
   "outputs": [
    {
     "data": {
      "text/html": [
       "<div>\n",
       "<style scoped>\n",
       "    .dataframe tbody tr th:only-of-type {\n",
       "        vertical-align: middle;\n",
       "    }\n",
       "\n",
       "    .dataframe tbody tr th {\n",
       "        vertical-align: top;\n",
       "    }\n",
       "\n",
       "    .dataframe thead th {\n",
       "        text-align: right;\n",
       "    }\n",
       "</style>\n",
       "<table border=\"1\" class=\"dataframe\">\n",
       "  <thead>\n",
       "    <tr style=\"text-align: right;\">\n",
       "      <th></th>\n",
       "      <th>id</th>\n",
       "      <th>title</th>\n",
       "      <th>artist</th>\n",
       "      <th>danceability</th>\n",
       "      <th>energy</th>\n",
       "      <th>acousticness</th>\n",
       "      <th>mode</th>\n",
       "      <th>valence</th>\n",
       "      <th>loudness</th>\n",
       "      <th>tempo</th>\n",
       "    </tr>\n",
       "  </thead>\n",
       "  <tbody>\n",
       "    <tr>\n",
       "      <th>69</th>\n",
       "      <td>5naar7XewEOAjOywIp6Jjq</td>\n",
       "      <td>Remember When</td>\n",
       "      <td>Wallows</td>\n",
       "      <td>0.504</td>\n",
       "      <td>0.708</td>\n",
       "      <td>0.00112</td>\n",
       "      <td>0</td>\n",
       "      <td>0.510</td>\n",
       "      <td>-5.896</td>\n",
       "      <td>82.009</td>\n",
       "    </tr>\n",
       "    <tr>\n",
       "      <th>70</th>\n",
       "      <td>4pieC53Jx9LsVLnoPSGMMk</td>\n",
       "      <td>Slow</td>\n",
       "      <td>Hauskey</td>\n",
       "      <td>0.568</td>\n",
       "      <td>0.780</td>\n",
       "      <td>0.23800</td>\n",
       "      <td>1</td>\n",
       "      <td>0.860</td>\n",
       "      <td>-4.988</td>\n",
       "      <td>199.785</td>\n",
       "    </tr>\n",
       "    <tr>\n",
       "      <th>71</th>\n",
       "      <td>50PyquzZ9BaBwLZZd1AuuV</td>\n",
       "      <td>Close To You</td>\n",
       "      <td>Dayglow</td>\n",
       "      <td>0.876</td>\n",
       "      <td>0.646</td>\n",
       "      <td>0.42200</td>\n",
       "      <td>1</td>\n",
       "      <td>0.832</td>\n",
       "      <td>-5.756</td>\n",
       "      <td>140.032</td>\n",
       "    </tr>\n",
       "    <tr>\n",
       "      <th>72</th>\n",
       "      <td>0CVaDx0YP1nMwZd1eg88cX</td>\n",
       "      <td>Water Your Garden</td>\n",
       "      <td>maye</td>\n",
       "      <td>0.573</td>\n",
       "      <td>0.728</td>\n",
       "      <td>0.14400</td>\n",
       "      <td>0</td>\n",
       "      <td>0.977</td>\n",
       "      <td>-5.656</td>\n",
       "      <td>201.974</td>\n",
       "    </tr>\n",
       "    <tr>\n",
       "      <th>73</th>\n",
       "      <td>4YXkB2Ti8KBX8dgUnhLoNg</td>\n",
       "      <td>F.E.A.R.</td>\n",
       "      <td>Joywave</td>\n",
       "      <td>0.713</td>\n",
       "      <td>0.588</td>\n",
       "      <td>0.00189</td>\n",
       "      <td>1</td>\n",
       "      <td>0.788</td>\n",
       "      <td>-5.063</td>\n",
       "      <td>101.007</td>\n",
       "    </tr>\n",
       "  </tbody>\n",
       "</table>\n",
       "</div>"
      ],
      "text/plain": [
       "                        id              title   artist  danceability  energy  \\\n",
       "69  5naar7XewEOAjOywIp6Jjq      Remember When  Wallows         0.504   0.708   \n",
       "70  4pieC53Jx9LsVLnoPSGMMk               Slow  Hauskey         0.568   0.780   \n",
       "71  50PyquzZ9BaBwLZZd1AuuV       Close To You  Dayglow         0.876   0.646   \n",
       "72  0CVaDx0YP1nMwZd1eg88cX  Water Your Garden     maye         0.573   0.728   \n",
       "73  4YXkB2Ti8KBX8dgUnhLoNg           F.E.A.R.  Joywave         0.713   0.588   \n",
       "\n",
       "    acousticness  mode  valence  loudness    tempo  \n",
       "69       0.00112     0    0.510    -5.896   82.009  \n",
       "70       0.23800     1    0.860    -4.988  199.785  \n",
       "71       0.42200     1    0.832    -5.756  140.032  \n",
       "72       0.14400     0    0.977    -5.656  201.974  \n",
       "73       0.00189     1    0.788    -5.063  101.007  "
      ]
     },
     "execution_count": 9,
     "metadata": {},
     "output_type": "execute_result"
    }
   ],
   "source": [
    "# repeat for PM\n",
    "their_features = sp.audio_features(their_ids)\n",
    "their_features_df = pd.DataFrame(data=their_features, columns=their_features[0].keys())\n",
    "their_features_df['title'] = their_titles\n",
    "their_features_df['artist'] = their_artists\n",
    "their_features_df = their_features_df[['id', 'title', 'artist', \n",
    "                           'danceability', 'energy',\n",
    "                           'acousticness', 'mode', 'valence', \n",
    "                            'loudness', 'tempo', \n",
    "                           ]]\n",
    "their_features_df.tail()"
   ]
  },
  {
   "cell_type": "code",
   "execution_count": 10,
   "id": "723467d5",
   "metadata": {},
   "outputs": [],
   "source": [
    "# extracting traits (scale from 0 to 1, 1 is the highest amount)\n",
    "def avg(lst):\n",
    "    return sum(lst) / len(lst)"
   ]
  },
  {
   "cell_type": "code",
   "execution_count": 11,
   "id": "91b67306",
   "metadata": {},
   "outputs": [],
   "source": [
    "# empty list of the traits in DF\n",
    "my_dance = []\n",
    "my_energy = []\n",
    "my_acoustic = []\n",
    "my_mode = []\n",
    "my_valence = []\n",
    "my_loud = []\n",
    "my_tempo = []\n",
    "\n",
    "# add data from prev secion\n",
    "for track in my_features:\n",
    "    my_dance.append(track['danceability'])\n",
    "    my_energy.append(track['energy'])\n",
    "    my_acoustic.append(track['acousticness'])\n",
    "    my_mode.append(track['mode'])\n",
    "    my_valence.append(track['valence'])\n",
    "    my_loud.append(track['loudness'])\n",
    "    my_tempo.append(track['tempo'])\n",
    "\n",
    "# scaled\n",
    "my_loud_scl = 1 - (abs(avg(my_loud)) - 2) / 9 \n",
    "my_tempo_scl = (avg(my_tempo) - 61) / 122"
   ]
  },
  {
   "cell_type": "code",
   "execution_count": 12,
   "id": "c85d7643",
   "metadata": {
    "scrolled": true
   },
   "outputs": [],
   "source": [
    "# repeat for PM\n",
    "their_dance = []\n",
    "their_energy = []\n",
    "their_acoustic = []\n",
    "their_mode = []\n",
    "their_valence = []\n",
    "their_loud = []\n",
    "their_tempo = []\n",
    "for track in their_features:\n",
    "    their_dance.append(track['danceability'])\n",
    "    their_energy.append(track['energy'])\n",
    "    their_acoustic.append(track['acousticness'])\n",
    "    their_mode.append(track['mode'])\n",
    "    their_valence.append(track['valence'])\n",
    "    their_loud.append(track['loudness'])\n",
    "    their_tempo.append(track['tempo'])\n",
    "\n",
    "# scaled\n",
    "their_loud_scl = 1 - (abs(avg(their_loud)) - 2) / 9 # mean = -6.4, stdev = 2.3\n",
    "their_tempo_scl = (avg(their_tempo) - 61) / 122 # mean = 123, stdev = 30.5"
   ]
  },
  {
   "cell_type": "code",
   "execution_count": 13,
   "id": "5e417c20",
   "metadata": {},
   "outputs": [],
   "source": [
    "# create list of audio traits both users like, based on their avg scores for each individual characteristic\n",
    "# cutoff values are +/- 0.5 stdev from the mean (using spotify's \"Top 50\" playlist as a benchmark)\n",
    "traits = []\n",
    "\n",
    "if avg(my_dance) > 0.57 and avg(their_dance) > 0.57:\n",
    "    traits.append(\"danceable\")\n",
    "elif avg(my_dance) < 0.43 and avg(their_dance) > 0.43:\n",
    "    traits.append(\"undanceable\")\n",
    "    \n",
    "if avg(my_energy) > 0.58 and avg(their_energy) > 0.58:\n",
    "    traits.append(\"energetic\")\n",
    "elif avg(my_energy) < 0.42 and avg(their_energy) < 0.42:\n",
    "    traits.append(\"chill\")\n",
    "    \n",
    "if avg(my_acoustic) > 0.62 and avg(their_acoustic) > 0.62:\n",
    "    traits.append(\"acoustic\")\n",
    "elif avg(my_acoustic) < 0.38 and avg(their_acoustic) < 0.38:\n",
    "    traits.append(\"electronically produced\")\n",
    "    \n",
    "if avg(my_mode) > 0.7 and avg(their_mode) > 0.7:\n",
    "    traits.append(\"written in a major key\")\n",
    "elif avg(my_mode) < 0.3 and avg(their_mode) < 0.3:\n",
    "    traits.append(\"written in a minor key\")\n",
    "    \n",
    "if avg(my_valence) > 0.72 and avg(their_valence) > 0.72:\n",
    "    traits.append(\"happy\")\n",
    "elif avg(my_valence) < 0.28 and avg(their_valence) < 0.28:\n",
    "    traits.append(\"sad\")\n",
    "    \n",
    "if my_loud_scl > 0.64 and their_loud_scl > 0.64: \n",
    "    traits.append(\"loud\")\n",
    "elif my_loud_scl < 0.36 and their_loud_scl < 0.36:\n",
    "    traits.append(\"quiet\")\n",
    "\n",
    "if my_tempo_scl > 0.66 and their_tempo_scl > 0.66: \n",
    "    traits.append(\"fast\")\n",
    "elif my_tempo_scl < 0.33 and their_tempo_scl < 0.33:\n",
    "    traits.append(\"slow\")\n",
    "    "
   ]
  },
  {
   "cell_type": "code",
   "execution_count": 14,
   "id": "7a984dcf",
   "metadata": {},
   "outputs": [],
   "source": [
    "# computes compatibility scores from 0 to 1 (1 is most similar)\n",
    "def get_score(lst1, lst2):\n",
    "    return (1 - abs(avg(lst1) - avg(lst2)))\n",
    "\n",
    "# individual trait\n",
    "dance_score = get_score(my_dance, their_dance) \n",
    "energy_score = get_score(my_energy, their_energy)\n",
    "acoustic_score = get_score(my_acoustic, their_acoustic)\n",
    "mode_score = get_score(my_mode, their_mode) \n",
    "valence_score = get_score(my_valence, their_valence)\n",
    "loud_score = 1 - abs(my_loud_scl - their_loud_scl)\n",
    "tempo_score = 1 - abs(my_tempo_scl - their_tempo_scl)\n",
    "\n",
    "# average of individuals\n",
    "raw = (dance_score + energy_score + acoustic_score + mode_score \n",
    "       + valence_score + loud_score + tempo_score) / 7\n",
    "\n",
    "# rounded & scaled\n",
    "compatibility = round(100 * (2 * raw - 1), 3)\n",
    "\n",
    "# if compatibility < 0 -> set to 0\n",
    "if compatibility < 0: \n",
    "    compatibility = 0"
   ]
  },
  {
   "cell_type": "code",
   "execution_count": 15,
   "id": "73eac2be",
   "metadata": {},
   "outputs": [
    {
     "name": "stdout",
     "output_type": "stream",
     "text": [
      "Danceability: 0.4888923076923078 | 0.6218918918918918 | 0.8670004158004161\n",
      "Energy: 0.609476923076923 | 0.7076621621621624 | 0.9018147609147606\n",
      "Acousticness : 0.21445605692307693 | 0.15076001986486487, 0.936303962941788\n",
      "Mode: 0.8923076923076924 | 0.581081081081081 | 0.6887733887733887\n",
      "Valence: 0.3681169230769231 | 0.6328999999999999 | 0.7352169230769232\n",
      "Loudness: 0.37670085470085435 | 0.541503003003003 | 0.8351978516978513\n",
      "Tempo: 0.4828609079445145 | 0.5172559813912277 | 0.9656049265532867\n",
      "Raw compatibility: 0.8471303185369164 | scaled compatibility: 69.426\n"
     ]
    }
   ],
   "source": [
    "# print info about each trait: user's avg, PM's avg, and compatbility, respectively\n",
    "# print raw & scaled compatibility scores (debugging purposes only)\n",
    "print(\"Danceability: \" + str(avg(my_dance)) + \" | \" + str(avg(their_dance)) + \" | \" + str(dance_score))\n",
    "print(\"Energy: \" + str(avg(my_energy)) + \" | \" + str(avg(their_energy)) + \" | \" + str(energy_score))\n",
    "print(\"Acousticness : \" + str(avg(my_acoustic)) + \" | \" + str(avg(their_acoustic)) + \", \" + str(acoustic_score))\n",
    "print(\"Mode: \" + str(avg(my_mode)) + \" | \" + str(avg(their_mode)) + \" | \" + str(mode_score))\n",
    "print(\"Valence: \" + str(avg(my_valence)) + \" | \" + str(avg(their_valence)) + \" | \" + str(valence_score))\n",
    "print(\"Loudness: \" + str(my_loud_scl) + \" | \" + str(their_loud_scl) + \" | \" + str(loud_score))\n",
    "print(\"Tempo: \" + str(my_tempo_scl) + \" | \" + str(their_tempo_scl) + \" | \" + str(tempo_score))\n",
    "print(\"Raw compatibility: \" + str(raw) + \" | scaled compatibility: \" + str(compatibility))\n"
   ]
  },
  {
   "cell_type": "markdown",
   "id": "2997f0b9",
   "metadata": {},
   "source": [
    "# Final Output "
   ]
  },
  {
   "cell_type": "markdown",
   "id": "c60bf8d5",
   "metadata": {},
   "source": [
    "STOP the program here!!  \n",
    "This is the PM's \"dating app profile\""
   ]
  },
  {
   "cell_type": "code",
   "execution_count": 16,
   "id": "6db1e74f",
   "metadata": {
    "scrolled": true
   },
   "outputs": [
    {
     "name": "stdout",
     "output_type": "stream",
     "text": [
      "Your URI: spotify:user:kli-17:playlist:2T75XDoKsI4dCgPxMXz7KV\n",
      "househusband's URI: spotify:user:cranefly07:playlist:1sa38ykEGPNjjbX5ht0lZq\n",
      "\n",
      "You and househusband are 69.426% compatible.\n",
      "\n",
      "househusband's favorite artist(s) are: \n",
      "['The Strokes']\n",
      "\n",
      "You both listen to: \n",
      "['Twenty One Pilots', 'Wallows']\n",
      "\n",
      "You both like songs that are: \n",
      "['energetic', 'electronically produced']\n",
      "\n",
      "Do you want to match with househusband? \n"
     ]
    }
   ],
   "source": [
    "# users' URI's\n",
    "print(\"Your URI: \" + my_uri)\n",
    "print(their_name + \"'s URI: \" + their_uri)\n",
    "print()\n",
    "\n",
    "# compatibility score\n",
    "if compatibility > 80:\n",
    "    print(\"Congratulations!\")\n",
    "if (compatibility < 20):\n",
    "    print(\"Uh oh :( \")\n",
    "print(\"You and \" + their_name + \" are \" + str(compatibility) + \"% compatible.\")\n",
    "print()\n",
    "\n",
    "# their favorite artists\n",
    "print(their_name + \"'s favorite artist(s) are: \")\n",
    "print(faves)\n",
    "print()\n",
    "\n",
    "# shared artists/traits\n",
    "if len(shared_artists) != 0:\n",
    "    print(\"You both listen to: \")\n",
    "    print(shared_artists)\n",
    "else:\n",
    "    print(\"You don't like any of the same artists :(\")\n",
    "print()\n",
    "\n",
    "if len(traits) != 0:\n",
    "    print(\"You both like songs that are: \")\n",
    "    print(traits)\n",
    "    print()\n",
    "\n",
    "print(\"Do you want to match with \" + their_name + \"? \")"
   ]
  },
  {
   "cell_type": "markdown",
   "id": "6edbd5d0",
   "metadata": {},
   "source": [
    "ONLY UN-COMMENT THIS BLOCK TO MATCH"
   ]
  },
  {
   "cell_type": "code",
   "execution_count": 17,
   "id": "041c1f80",
   "metadata": {},
   "outputs": [
    {
     "name": "stdout",
     "output_type": "stream",
     "text": [
      "Your matches are: \n",
      "['househusband']\n"
     ]
    }
   ],
   "source": [
    "matches.append(their_name)\n",
    "print(\"Your matches are: \")\n",
    "print(matches)\n"
   ]
  },
  {
   "cell_type": "code",
   "execution_count": null,
   "id": "43ea5adc",
   "metadata": {},
   "outputs": [],
   "source": []
  }
 ],
 "metadata": {
  "kernelspec": {
   "display_name": "Python 3.8.2 64-bit",
   "language": "python",
   "name": "python3"
  },
  "language_info": {
   "codemirror_mode": {
    "name": "ipython",
    "version": 3
   },
   "file_extension": ".py",
   "mimetype": "text/x-python",
   "name": "python",
   "nbconvert_exporter": "python",
   "pygments_lexer": "ipython3",
   "version": "3.8.2"
  },
  "vscode": {
   "interpreter": {
    "hash": "31f2aee4e71d21fbe5cf8b01ff0e069b9275f58929596ceb00d14d90e3e16cd6"
   }
  }
 },
 "nbformat": 4,
 "nbformat_minor": 5
}
